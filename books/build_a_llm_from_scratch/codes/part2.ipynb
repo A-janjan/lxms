{
  "nbformat": 4,
  "nbformat_minor": 0,
  "metadata": {
    "colab": {
      "provenance": []
    },
    "kernelspec": {
      "name": "python3",
      "display_name": "Python 3"
    },
    "language_info": {
      "name": "python"
    }
  },
  "cells": [
    {
      "cell_type": "markdown",
      "source": [
        "## A simple self-attention mechanism without trainable weights"
      ],
      "metadata": {
        "id": "kRSJtSmzptRP"
      }
    },
    {
      "cell_type": "code",
      "execution_count": null,
      "metadata": {
        "id": "YtwykEGqkFAy"
      },
      "outputs": [],
      "source": [
        "import torch\n",
        "inputs = torch.tensor(\n",
        "[[0.43, 0.15, 0.89], # Your\n",
        "[0.55, 0.87, 0.66], # journey\n",
        "[0.57, 0.85, 0.64], # starts\n",
        "[0.22, 0.58, 0.33], # with\n",
        "[0.77, 0.25, 0.10], # one\n",
        "[0.05, 0.80, 0.55]] # step\n",
        ")"
      ]
    },
    {
      "cell_type": "code",
      "source": [
        "query = inputs[1]\n",
        "\n",
        "attention_scores = torch.empty(inputs.shape[0])\n",
        "\n",
        "for i, x_i in enumerate(inputs):\n",
        "  attention_scores[i] = torch.dot(x_i, query)\n",
        "\n",
        "print(attention_scores)"
      ],
      "metadata": {
        "colab": {
          "base_uri": "https://localhost:8080/"
        },
        "id": "dxKy2d1hkLdB",
        "outputId": "7c24bd58-6e34-44ae-dd1d-745e0304715d"
      },
      "execution_count": null,
      "outputs": [
        {
          "output_type": "stream",
          "name": "stdout",
          "text": [
            "tensor([0.9544, 1.4950, 1.4754, 0.8434, 0.7070, 1.0865])\n"
          ]
        }
      ]
    },
    {
      "cell_type": "code",
      "source": [
        "attention_scores_tmp = attention_scores / attention_scores.sum()\n",
        "print(attention_scores)"
      ],
      "metadata": {
        "colab": {
          "base_uri": "https://localhost:8080/"
        },
        "id": "1T_gqTMzl5T-",
        "outputId": "b0759d23-191a-42bb-953a-9841e7856a81"
      },
      "execution_count": null,
      "outputs": [
        {
          "output_type": "stream",
          "name": "stdout",
          "text": [
            "tensor([0.9544, 1.4950, 1.4754, 0.8434, 0.7070, 1.0865])\n"
          ]
        }
      ]
    },
    {
      "cell_type": "code",
      "source": [
        "import numpy as np\n",
        "\n",
        "def naive_softmax(x):\n",
        "  return np.exp(x) / np.exp(x).sum(dim=0)\n",
        "\n",
        "print(naive_softmax(attention_scores))"
      ],
      "metadata": {
        "colab": {
          "base_uri": "https://localhost:8080/"
        },
        "id": "BVQNirR3mYJv",
        "outputId": "40a67b6e-7251-49f1-a8bf-f9da39bc69b0"
      },
      "execution_count": null,
      "outputs": [
        {
          "output_type": "stream",
          "name": "stdout",
          "text": [
            "tensor([0.1385, 0.2379, 0.2333, 0.1240, 0.1082, 0.1581])\n"
          ]
        }
      ]
    },
    {
      "cell_type": "code",
      "source": [
        "attention_scores_normalized = torch.softmax(attention_scores, dim=0)"
      ],
      "metadata": {
        "id": "QNT7nJt9nPLs"
      },
      "execution_count": null,
      "outputs": []
    },
    {
      "cell_type": "code",
      "source": [
        "attention_scores_normalized"
      ],
      "metadata": {
        "colab": {
          "base_uri": "https://localhost:8080/"
        },
        "id": "OaYFrBBbpLvJ",
        "outputId": "748acad8-b902-4fd2-f06b-0cd9cb2e8dc8"
      },
      "execution_count": null,
      "outputs": [
        {
          "output_type": "execute_result",
          "data": {
            "text/plain": [
              "tensor([0.1385, 0.2379, 0.2333, 0.1240, 0.1082, 0.1581])"
            ]
          },
          "metadata": {},
          "execution_count": 6
        }
      ]
    },
    {
      "cell_type": "code",
      "source": [
        "query = inputs[1]\n",
        "context_vector = torch.zeros(query.shape)\n",
        "for i, x_i in enumerate(inputs):\n",
        "  context_vector += attention_scores_normalized[i] * x_i\n",
        "\n",
        "print(context_vector)"
      ],
      "metadata": {
        "colab": {
          "base_uri": "https://localhost:8080/"
        },
        "id": "akKokxxdnYpW",
        "outputId": "3592dd8b-c8a2-4001-e6d6-efce689de8d3"
      },
      "execution_count": null,
      "outputs": [
        {
          "output_type": "stream",
          "name": "stdout",
          "text": [
            "tensor([0.4419, 0.6515, 0.5683])\n"
          ]
        }
      ]
    },
    {
      "cell_type": "markdown",
      "source": [
        "## Computing attention weights for all input tokens"
      ],
      "metadata": {
        "id": "zbnY7zn-pacc"
      }
    },
    {
      "cell_type": "code",
      "source": [
        "att_scores = torch.empty(6,6)\n",
        "\n",
        "for i, x_i in enumerate(inputs):\n",
        "  for j, x_j in enumerate(inputs):\n",
        "    att_scores[i,j] = torch.dot(x_i, x_j)\n",
        "\n",
        "print(att_scores)"
      ],
      "metadata": {
        "colab": {
          "base_uri": "https://localhost:8080/"
        },
        "id": "skAReUHnouOs",
        "outputId": "bd7e7df6-4b4c-42cb-af49-716570090c88"
      },
      "execution_count": null,
      "outputs": [
        {
          "output_type": "stream",
          "name": "stdout",
          "text": [
            "tensor([[0.9995, 0.9544, 0.9422, 0.4753, 0.4576, 0.6310],\n",
            "        [0.9544, 1.4950, 1.4754, 0.8434, 0.7070, 1.0865],\n",
            "        [0.9422, 1.4754, 1.4570, 0.8296, 0.7154, 1.0605],\n",
            "        [0.4753, 0.8434, 0.8296, 0.4937, 0.3474, 0.6565],\n",
            "        [0.4576, 0.7070, 0.7154, 0.3474, 0.6654, 0.2935],\n",
            "        [0.6310, 1.0865, 1.0605, 0.6565, 0.2935, 0.9450]])\n"
          ]
        }
      ]
    },
    {
      "cell_type": "code",
      "source": [
        "attn_scores = inputs @ inputs.T\n",
        "\n",
        "attn_scores"
      ],
      "metadata": {
        "colab": {
          "base_uri": "https://localhost:8080/"
        },
        "id": "hxymJaYgqPCF",
        "outputId": "d91ad3b3-44b6-4866-917e-bd6edb1e7efe"
      },
      "execution_count": null,
      "outputs": [
        {
          "output_type": "execute_result",
          "data": {
            "text/plain": [
              "tensor([[0.9995, 0.9544, 0.9422, 0.4753, 0.4576, 0.6310],\n",
              "        [0.9544, 1.4950, 1.4754, 0.8434, 0.7070, 1.0865],\n",
              "        [0.9422, 1.4754, 1.4570, 0.8296, 0.7154, 1.0605],\n",
              "        [0.4753, 0.8434, 0.8296, 0.4937, 0.3474, 0.6565],\n",
              "        [0.4576, 0.7070, 0.7154, 0.3474, 0.6654, 0.2935],\n",
              "        [0.6310, 1.0865, 1.0605, 0.6565, 0.2935, 0.9450]])"
            ]
          },
          "metadata": {},
          "execution_count": 9
        }
      ]
    },
    {
      "cell_type": "code",
      "source": [
        "attn_weights = torch.softmax(attn_scores, dim=-1)\n",
        "\n",
        "attn_weights"
      ],
      "metadata": {
        "colab": {
          "base_uri": "https://localhost:8080/"
        },
        "id": "qgkNwUiwqsFz",
        "outputId": "f9ec1ca8-2fad-41af-bd08-7a5037b6c27f"
      },
      "execution_count": null,
      "outputs": [
        {
          "output_type": "execute_result",
          "data": {
            "text/plain": [
              "tensor([[0.2098, 0.2006, 0.1981, 0.1242, 0.1220, 0.1452],\n",
              "        [0.1385, 0.2379, 0.2333, 0.1240, 0.1082, 0.1581],\n",
              "        [0.1390, 0.2369, 0.2326, 0.1242, 0.1108, 0.1565],\n",
              "        [0.1435, 0.2074, 0.2046, 0.1462, 0.1263, 0.1720],\n",
              "        [0.1526, 0.1958, 0.1975, 0.1367, 0.1879, 0.1295],\n",
              "        [0.1385, 0.2184, 0.2128, 0.1420, 0.0988, 0.1896]])"
            ]
          },
          "metadata": {},
          "execution_count": 10
        }
      ]
    },
    {
      "cell_type": "code",
      "source": [
        "attn_weights[1].sum()"
      ],
      "metadata": {
        "colab": {
          "base_uri": "https://localhost:8080/"
        },
        "id": "W_veBh4IrHYY",
        "outputId": "5481ee0c-8d20-46cc-9471-6dfeb119d69c"
      },
      "execution_count": null,
      "outputs": [
        {
          "output_type": "execute_result",
          "data": {
            "text/plain": [
              "tensor(1.)"
            ]
          },
          "metadata": {},
          "execution_count": 11
        }
      ]
    },
    {
      "cell_type": "code",
      "source": [
        "all_context_vecs = attn_weights @ inputs\n",
        "\n",
        "all_context_vecs"
      ],
      "metadata": {
        "colab": {
          "base_uri": "https://localhost:8080/"
        },
        "id": "HorKIt2OrvM0",
        "outputId": "5f958a3d-f884-4ccd-dfab-bb2b44a5f587"
      },
      "execution_count": null,
      "outputs": [
        {
          "output_type": "execute_result",
          "data": {
            "text/plain": [
              "tensor([[0.4421, 0.5931, 0.5790],\n",
              "        [0.4419, 0.6515, 0.5683],\n",
              "        [0.4431, 0.6496, 0.5671],\n",
              "        [0.4304, 0.6298, 0.5510],\n",
              "        [0.4671, 0.5910, 0.5266],\n",
              "        [0.4177, 0.6503, 0.5645]])"
            ]
          },
          "metadata": {},
          "execution_count": 12
        }
      ]
    },
    {
      "cell_type": "markdown",
      "source": [
        "# Implementing self-attention with trainable weights"
      ],
      "metadata": {
        "id": "elO3eNne-5ks"
      }
    },
    {
      "cell_type": "markdown",
      "source": [
        "## Computing the attention weights step by step"
      ],
      "metadata": {
        "id": "n2Q4yLTF-6rC"
      }
    },
    {
      "cell_type": "code",
      "source": [
        "x_2 = inputs[1]\n",
        "d_in = inputs.shape[1]\n",
        "d_out = 2"
      ],
      "metadata": {
        "id": "xfZKml8zsvZ0"
      },
      "execution_count": null,
      "outputs": []
    },
    {
      "cell_type": "code",
      "source": [
        "torch.manual_seed(42)\n",
        "\n",
        "W_query = torch.nn.Parameter(torch.rand(d_in, d_out), requires_grad=False)\n",
        "W_key = torch.nn.Parameter(torch.rand(d_in, d_out), requires_grad=False)\n",
        "W_value = torch.nn.Parameter(torch.rand(d_in, d_out), requires_grad=False)"
      ],
      "metadata": {
        "id": "YYoCfBjg_f3D"
      },
      "execution_count": null,
      "outputs": []
    },
    {
      "cell_type": "code",
      "source": [
        "query_2 = x_2 @ W_query\n",
        "key_2 = x_2 @ W_key\n",
        "value_2 = x_2 @ W_value\n",
        "\n",
        "print(query_2)\n",
        "print(key_2)\n",
        "print(value_2)"
      ],
      "metadata": {
        "colab": {
          "base_uri": "https://localhost:8080/"
        },
        "id": "b2fpRt71_0oW",
        "outputId": "6f9fad83-f5f4-4a60-e23b-746f1877f99f"
      },
      "execution_count": null,
      "outputs": [
        {
          "output_type": "stream",
          "name": "stdout",
          "text": [
            "tensor([1.0760, 1.7344])\n",
            "tensor([1.5764, 0.9441])\n",
            "tensor([1.7073, 1.0646])\n"
          ]
        }
      ]
    },
    {
      "cell_type": "code",
      "source": [
        "keys = inputs @ W_key\n",
        "values = inputs @ W_value\n",
        "\n",
        "print(keys)\n",
        "print(values)"
      ],
      "metadata": {
        "colab": {
          "base_uri": "https://localhost:8080/"
        },
        "id": "77N8F1ij_-0T",
        "outputId": "b0625b55-ad66-43d3-bf58-68f60e2050f5"
      },
      "execution_count": null,
      "outputs": [
        {
          "output_type": "stream",
          "name": "stdout",
          "text": [
            "tensor([[1.0832, 0.8895],\n",
            "        [1.5764, 0.9441],\n",
            "        [1.5440, 0.9455],\n",
            "        [0.9105, 0.4477],\n",
            "        [0.5262, 0.7038],\n",
            "        [1.2795, 0.4727]])\n",
            "tensor([[1.2731, 0.8193],\n",
            "        [1.7073, 1.0646],\n",
            "        [1.6922, 1.0559],\n",
            "        [0.9133, 0.5633],\n",
            "        [0.9433, 0.6019],\n",
            "        [1.1233, 0.6876]])\n"
          ]
        }
      ]
    },
    {
      "cell_type": "code",
      "source": [
        "keys_2 = keys[1]\n",
        "attn_score_2 = keys_2.dot(query_2)\n",
        "\n",
        "attn_score_2"
      ],
      "metadata": {
        "colab": {
          "base_uri": "https://localhost:8080/"
        },
        "id": "NDQYwhjXBjeg",
        "outputId": "2209466f-fffc-4a9a-ebf0-e594a5f8875b"
      },
      "execution_count": null,
      "outputs": [
        {
          "output_type": "execute_result",
          "data": {
            "text/plain": [
              "tensor(3.3338)"
            ]
          },
          "metadata": {},
          "execution_count": 17
        }
      ]
    },
    {
      "cell_type": "code",
      "source": [
        "attn_scores_2 = query_2 @ keys.T\n",
        "\n",
        "attn_scores_2"
      ],
      "metadata": {
        "colab": {
          "base_uri": "https://localhost:8080/"
        },
        "id": "PpTLaHLgDstQ",
        "outputId": "8ae57845-d34f-4ca3-fbb5-4846d981305c"
      },
      "execution_count": null,
      "outputs": [
        {
          "output_type": "execute_result",
          "data": {
            "text/plain": [
              "tensor([2.7084, 3.3338, 3.3013, 1.7563, 1.7869, 2.1966])"
            ]
          },
          "metadata": {},
          "execution_count": 18
        }
      ]
    },
    {
      "cell_type": "code",
      "source": [
        "d_k = keys.shape[1]\n",
        "\n",
        "attn_weights_2 = torch.softmax(attn_scores_2 / (d_k ** 0.5), dim=-1)\n",
        "\n",
        "attn_weights_2"
      ],
      "metadata": {
        "colab": {
          "base_uri": "https://localhost:8080/"
        },
        "id": "mGqFlF-mD37z",
        "outputId": "a093ed1e-1ea9-4327-8f29-101f9e5efd3f"
      },
      "execution_count": null,
      "outputs": [
        {
          "output_type": "execute_result",
          "data": {
            "text/plain": [
              "tensor([0.1723, 0.2681, 0.2620, 0.0879, 0.0898, 0.1200])"
            ]
          },
          "metadata": {},
          "execution_count": 19
        }
      ]
    },
    {
      "cell_type": "code",
      "source": [
        "context_vect_2 = attn_weights_2 @ values\n",
        "\n",
        "context_vect_2"
      ],
      "metadata": {
        "colab": {
          "base_uri": "https://localhost:8080/"
        },
        "id": "RFORFX-zEf2c",
        "outputId": "10e40f1c-d71f-440e-9db2-42ff837c53f1"
      },
      "execution_count": null,
      "outputs": [
        {
          "output_type": "execute_result",
          "data": {
            "text/plain": [
              "tensor([1.4201, 0.8892])"
            ]
          },
          "metadata": {},
          "execution_count": 20
        }
      ]
    },
    {
      "cell_type": "markdown",
      "source": [
        "## Implementing a compact self-attention Python class"
      ],
      "metadata": {
        "id": "1IiBS_yXHuDU"
      }
    },
    {
      "cell_type": "code",
      "source": [
        "import torch.nn as nn\n",
        "\n",
        "class SelfAttention_v1(nn.Module):\n",
        "  def __init__(self, d_in, d_out):\n",
        "    super().__init__()\n",
        "    self.w_key = nn.Parameter(torch.rand(d_in, d_out))\n",
        "    self.w_query = nn.Parameter(torch.rand(d_in, d_out))\n",
        "    self.w_value = nn.Parameter(torch.rand(d_in, d_out))\n",
        "\n",
        "\n",
        "  def forward(self, x):\n",
        "    keys = x @ self.w_key\n",
        "    queries = x @ self.w_query\n",
        "    values = x @ self.w_value\n",
        "\n",
        "    attn_scores = queries @ keys.T\n",
        "    attn_weights = torch.softmax(attn_scores / keys.shape[-1]**0.5, dim=-1)\n",
        "    context_vec = attn_weights @ values\n",
        "\n",
        "    return context_vec"
      ],
      "metadata": {
        "id": "tNX5n4DVFSP5"
      },
      "execution_count": null,
      "outputs": []
    },
    {
      "cell_type": "code",
      "source": [
        "torch.manual_seed(42)\n",
        "sa_v1 = SelfAttention_v1(d_in, d_out)\n",
        "print(sa_v1(inputs))"
      ],
      "metadata": {
        "colab": {
          "base_uri": "https://localhost:8080/"
        },
        "id": "PzJFrTlFPDl9",
        "outputId": "c6751f6a-a0c9-4a88-82f3-fdec853ac18d"
      },
      "execution_count": null,
      "outputs": [
        {
          "output_type": "stream",
          "name": "stdout",
          "text": [
            "tensor([[1.3916, 0.8710],\n",
            "        [1.4175, 0.8872],\n",
            "        [1.4162, 0.8864],\n",
            "        [1.3492, 0.8448],\n",
            "        [1.3519, 0.8462],\n",
            "        [1.3676, 0.8564]], grad_fn=<MmBackward0>)\n"
          ]
        }
      ]
    },
    {
      "cell_type": "code",
      "source": [
        "class SelfAttention_v2(nn.Module):\n",
        "  def __init__(self, d_in, d_out, kqv_bias=False):\n",
        "    super().__init__()\n",
        "    self.W_query = nn.Linear(d_in, d_out, bias=kqv_bias)\n",
        "    self.W_key = nn.Linear(d_in, d_out, bias=kqv_bias)\n",
        "    self.W_value = nn.Linear(d_in, d_out, bias=kqv_bias)\n",
        "\n",
        "  def forward(self, x):\n",
        "    keys = self.W_key(x)\n",
        "    queries = self.W_query(x)\n",
        "    values = self.W_value(x)\n",
        "\n",
        "    attn_scores = queries @ keys.T\n",
        "    attn_weights = torch.softmax(attn_scores / keys.shape[-1]**0.5, dim=-1)\n",
        "    context_vect = attn_weights @ values\n",
        "    return context_vect"
      ],
      "metadata": {
        "id": "Tr3-4FziPIgW"
      },
      "execution_count": null,
      "outputs": []
    },
    {
      "cell_type": "code",
      "source": [
        "torch.manual_seed(42)\n",
        "sa_v2 = SelfAttention_v2(d_in, d_out)\n",
        "print(sa_v2(inputs))"
      ],
      "metadata": {
        "colab": {
          "base_uri": "https://localhost:8080/"
        },
        "id": "MGkvwlt0R9YI",
        "outputId": "ba986cb5-ea38-4363-ee4e-5a58e5f2a520"
      },
      "execution_count": null,
      "outputs": [
        {
          "output_type": "stream",
          "name": "stdout",
          "text": [
            "tensor([[0.3755, 0.2777],\n",
            "        [0.3761, 0.2831],\n",
            "        [0.3761, 0.2833],\n",
            "        [0.3768, 0.2763],\n",
            "        [0.3754, 0.2836],\n",
            "        [0.3772, 0.2746]], grad_fn=<MmBackward0>)\n"
          ]
        }
      ]
    },
    {
      "cell_type": "markdown",
      "source": [
        "# Hiding future words with causal attention"
      ],
      "metadata": {
        "id": "LW1rPAgsSNBv"
      }
    },
    {
      "cell_type": "markdown",
      "source": [
        "## Applying a causal attention mask"
      ],
      "metadata": {
        "id": "bpgEVVnA1DX_"
      }
    },
    {
      "cell_type": "code",
      "source": [
        "queries = sa_v2.W_query(inputs)\n",
        "keys = sa_v2.W_key(inputs)\n",
        "values = sa_v2.W_value(inputs)\n",
        "\n",
        "attn_scores = queries @ keys.T\n",
        "\n",
        "attn_weights = torch.softmax(attn_scores / keys.shape[-1]**0.5, dim=-1)\n",
        "\n",
        "print(attn_weights)"
      ],
      "metadata": {
        "id": "1otxNKbxR_5T",
        "colab": {
          "base_uri": "https://localhost:8080/"
        },
        "outputId": "34439ca2-dc8a-4c77-b8af-e760a49294bc"
      },
      "execution_count": null,
      "outputs": [
        {
          "output_type": "stream",
          "name": "stdout",
          "text": [
            "tensor([[0.1605, 0.1726, 0.1714, 0.1681, 0.1473, 0.1801],\n",
            "        [0.1627, 0.1780, 0.1758, 0.1648, 0.1306, 0.1880],\n",
            "        [0.1625, 0.1782, 0.1759, 0.1648, 0.1302, 0.1885],\n",
            "        [0.1661, 0.1726, 0.1715, 0.1654, 0.1475, 0.1768],\n",
            "        [0.1596, 0.1777, 0.1755, 0.1664, 0.1312, 0.1896],\n",
            "        [0.1682, 0.1715, 0.1707, 0.1648, 0.1511, 0.1738]],\n",
            "       grad_fn=<SoftmaxBackward0>)\n"
          ]
        }
      ]
    },
    {
      "cell_type": "code",
      "source": [
        "context_length = attn_scores.shape[0]\n",
        "mask_simple = torch.tril(torch.ones(context_length, context_length))\n",
        "print(mask_simple)"
      ],
      "metadata": {
        "colab": {
          "base_uri": "https://localhost:8080/"
        },
        "id": "aYIErmiY10RS",
        "outputId": "0d434fa8-b970-41d1-8b67-a8e8e6558eea"
      },
      "execution_count": null,
      "outputs": [
        {
          "output_type": "stream",
          "name": "stdout",
          "text": [
            "tensor([[1., 0., 0., 0., 0., 0.],\n",
            "        [1., 1., 0., 0., 0., 0.],\n",
            "        [1., 1., 1., 0., 0., 0.],\n",
            "        [1., 1., 1., 1., 0., 0.],\n",
            "        [1., 1., 1., 1., 1., 0.],\n",
            "        [1., 1., 1., 1., 1., 1.]])\n"
          ]
        }
      ]
    },
    {
      "cell_type": "code",
      "source": [
        "masked_simple = attn_weights*mask_simple\n",
        "print(masked_simple)"
      ],
      "metadata": {
        "colab": {
          "base_uri": "https://localhost:8080/"
        },
        "id": "9hcnbEtC2YkH",
        "outputId": "05596464-7ce4-4895-f486-241062864369"
      },
      "execution_count": null,
      "outputs": [
        {
          "output_type": "stream",
          "name": "stdout",
          "text": [
            "tensor([[0.1605, 0.0000, 0.0000, 0.0000, 0.0000, 0.0000],\n",
            "        [0.1627, 0.1780, 0.0000, 0.0000, 0.0000, 0.0000],\n",
            "        [0.1625, 0.1782, 0.1759, 0.0000, 0.0000, 0.0000],\n",
            "        [0.1661, 0.1726, 0.1715, 0.1654, 0.0000, 0.0000],\n",
            "        [0.1596, 0.1777, 0.1755, 0.1664, 0.1312, 0.0000],\n",
            "        [0.1682, 0.1715, 0.1707, 0.1648, 0.1511, 0.1738]],\n",
            "       grad_fn=<MulBackward0>)\n"
          ]
        }
      ]
    },
    {
      "cell_type": "code",
      "source": [
        "row_sums = masked_simple.sum(dim=-1, keepdim=True)\n",
        "masked_simple_norm = masked_simple / row_sums\n",
        "print(masked_simple_norm)"
      ],
      "metadata": {
        "colab": {
          "base_uri": "https://localhost:8080/"
        },
        "id": "-Vpi_keV2ggx",
        "outputId": "1bfaa169-3327-4265-81b1-3f1c14763c5d"
      },
      "execution_count": null,
      "outputs": [
        {
          "output_type": "stream",
          "name": "stdout",
          "text": [
            "tensor([[1.0000, 0.0000, 0.0000, 0.0000, 0.0000, 0.0000],\n",
            "        [0.4775, 0.5225, 0.0000, 0.0000, 0.0000, 0.0000],\n",
            "        [0.3146, 0.3450, 0.3405, 0.0000, 0.0000, 0.0000],\n",
            "        [0.2459, 0.2555, 0.2538, 0.2448, 0.0000, 0.0000],\n",
            "        [0.1969, 0.2193, 0.2165, 0.2053, 0.1619, 0.0000],\n",
            "        [0.1682, 0.1715, 0.1707, 0.1648, 0.1511, 0.1738]],\n",
            "       grad_fn=<DivBackward0>)\n"
          ]
        }
      ]
    },
    {
      "cell_type": "code",
      "source": [
        "mask = torch.triu(torch.ones(context_length, context_length), diagonal=1)\n",
        "masked = attn_scores.masked_fill(mask.bool(), -torch.inf)\n",
        "print(masked)"
      ],
      "metadata": {
        "colab": {
          "base_uri": "https://localhost:8080/"
        },
        "id": "Gk4Sd4VN2tks",
        "outputId": "4f6388f7-7524-4ce4-e09d-69f94682113c"
      },
      "execution_count": null,
      "outputs": [
        {
          "output_type": "stream",
          "name": "stdout",
          "text": [
            "tensor([[ 0.0508,    -inf,    -inf,    -inf,    -inf,    -inf],\n",
            "        [ 0.2157,  0.3428,    -inf,    -inf,    -inf,    -inf],\n",
            "        [ 0.2163,  0.3467,  0.3282,    -inf,    -inf,    -inf],\n",
            "        [ 0.1257,  0.1799,  0.1707,  0.1191,    -inf,    -inf],\n",
            "        [ 0.1667,  0.3193,  0.3012,  0.2258, -0.1098,    -inf],\n",
            "        [ 0.1269,  0.1548,  0.1475,  0.0978, -0.0247,  0.1731]],\n",
            "       grad_fn=<MaskedFillBackward0>)\n"
          ]
        }
      ]
    },
    {
      "cell_type": "code",
      "source": [
        "attn_weights = torch.softmax(masked / keys.shape[-1]**0.5, dim=1)\n",
        "print(attn_weights)"
      ],
      "metadata": {
        "colab": {
          "base_uri": "https://localhost:8080/"
        },
        "id": "5qLxg3x74Wkd",
        "outputId": "98db2433-ffd3-4b25-caee-7933cfb49ed4"
      },
      "execution_count": null,
      "outputs": [
        {
          "output_type": "stream",
          "name": "stdout",
          "text": [
            "tensor([[1.0000, 0.0000, 0.0000, 0.0000, 0.0000, 0.0000],\n",
            "        [0.4775, 0.5225, 0.0000, 0.0000, 0.0000, 0.0000],\n",
            "        [0.3146, 0.3450, 0.3405, 0.0000, 0.0000, 0.0000],\n",
            "        [0.2459, 0.2555, 0.2538, 0.2448, 0.0000, 0.0000],\n",
            "        [0.1969, 0.2193, 0.2165, 0.2053, 0.1619, 0.0000],\n",
            "        [0.1682, 0.1715, 0.1707, 0.1648, 0.1511, 0.1738]],\n",
            "       grad_fn=<SoftmaxBackward0>)\n"
          ]
        }
      ]
    },
    {
      "cell_type": "markdown",
      "source": [
        "## Masking additional attention weights with dropout"
      ],
      "metadata": {
        "id": "RCpsRhOJ_wjD"
      }
    },
    {
      "cell_type": "code",
      "source": [
        "torch.manual_seed(123)\n",
        "dropout = torch.nn.Dropout(0.5)\n",
        "example = torch.ones(6, 6)\n",
        "print(dropout(example))"
      ],
      "metadata": {
        "colab": {
          "base_uri": "https://localhost:8080/"
        },
        "id": "y2qL6UEo4e_7",
        "outputId": "ebfaa186-8ae5-4612-b48e-1a65a2aa9b02"
      },
      "execution_count": null,
      "outputs": [
        {
          "output_type": "stream",
          "name": "stdout",
          "text": [
            "tensor([[2., 2., 2., 2., 2., 2.],\n",
            "        [0., 2., 0., 0., 0., 0.],\n",
            "        [0., 0., 2., 0., 2., 0.],\n",
            "        [2., 2., 0., 0., 0., 2.],\n",
            "        [2., 0., 0., 0., 0., 2.],\n",
            "        [0., 2., 0., 0., 0., 0.]])\n"
          ]
        }
      ]
    },
    {
      "cell_type": "code",
      "source": [
        "torch.manual_seed(123)\n",
        "print(dropout(attn_weights))"
      ],
      "metadata": {
        "colab": {
          "base_uri": "https://localhost:8080/"
        },
        "id": "I5bTttaQ_48B",
        "outputId": "0581a409-d3ec-4b31-a437-a739c0d8bc8e"
      },
      "execution_count": null,
      "outputs": [
        {
          "output_type": "stream",
          "name": "stdout",
          "text": [
            "tensor([[2.0000, 0.0000, 0.0000, 0.0000, 0.0000, 0.0000],\n",
            "        [0.0000, 1.0449, 0.0000, 0.0000, 0.0000, 0.0000],\n",
            "        [0.0000, 0.0000, 0.6809, 0.0000, 0.0000, 0.0000],\n",
            "        [0.4918, 0.5110, 0.0000, 0.0000, 0.0000, 0.0000],\n",
            "        [0.3938, 0.0000, 0.0000, 0.0000, 0.0000, 0.0000],\n",
            "        [0.0000, 0.3431, 0.0000, 0.0000, 0.0000, 0.0000]],\n",
            "       grad_fn=<MulBackward0>)\n"
          ]
        }
      ]
    },
    {
      "cell_type": "markdown",
      "source": [
        "## Implementing a compact causal attention class"
      ],
      "metadata": {
        "id": "qTQoJ4F7BFOh"
      }
    },
    {
      "cell_type": "code",
      "source": [
        "batch = torch.stack((inputs, inputs), dim=0)\n",
        "print(batch.shape)"
      ],
      "metadata": {
        "colab": {
          "base_uri": "https://localhost:8080/"
        },
        "id": "OO4-5TXVAy0p",
        "outputId": "045a14dd-7d10-4824-81e3-4dbb5399eebc"
      },
      "execution_count": null,
      "outputs": [
        {
          "output_type": "stream",
          "name": "stdout",
          "text": [
            "torch.Size([2, 6, 3])\n"
          ]
        }
      ]
    },
    {
      "cell_type": "code",
      "source": [
        "class CausalAttention(nn.Module):\n",
        "  def __init__(self, d_in, d_out, context_length, dropout=0.0, kqv_bias=False):\n",
        "    super().__init__()\n",
        "    self.d_out = d_out\n",
        "    self.W_query = nn.Linear(d_in, d_out, bias=kqv_bias)\n",
        "    self.W_key = nn.Linear(d_in, d_out, bias=kqv_bias)\n",
        "    self.W_value = nn.Linear(d_in, d_out, bias=kqv_bias)\n",
        "    self.dropout = nn.Dropout(dropout)\n",
        "    self.register_buffer('mask', torch.triu(torch.ones(context_length, context_length), diagonal=1))\n",
        "\n",
        "  def forward(self, x):\n",
        "    b, num_tokens, d_in = x.shape\n",
        "    keys = self.W_key(x)\n",
        "    values = self.W_value(x)\n",
        "    queries = self.W_query(x)\n",
        "    attn_scores = queries @ keys.transpose(1, 2)\n",
        "    attn_scores.masked_fill_(\n",
        "        self.mask.bool()[:num_tokens, :num_tokens], -torch.inf\n",
        "    )\n",
        "    attn_weights = torch.softmax(attn_scores / keys.shape[-1]**0.5, dim=-1)\n",
        "    attn_weights = self.dropout(attn_weights)\n",
        "    context_vect = attn_weights @ values\n",
        "    return context_vect"
      ],
      "metadata": {
        "id": "95vtE-MCBJvH"
      },
      "execution_count": null,
      "outputs": []
    },
    {
      "cell_type": "code",
      "source": [
        "torch.manual_seed(123)\n",
        "ca = CausalAttention(d_in, d_out, context_length=batch.shape[1], dropout=0.0)\n",
        "context_vecs = ca(batch)\n",
        "print(context_vecs)"
      ],
      "metadata": {
        "colab": {
          "base_uri": "https://localhost:8080/"
        },
        "id": "IOseZMYtFbRR",
        "outputId": "be95763f-bb28-4a11-d1f7-1ab1b887c74a"
      },
      "execution_count": null,
      "outputs": [
        {
          "output_type": "stream",
          "name": "stdout",
          "text": [
            "tensor([[[-0.4519,  0.2216],\n",
            "         [-0.5874,  0.0058],\n",
            "         [-0.6300, -0.0632],\n",
            "         [-0.5675, -0.0843],\n",
            "         [-0.5526, -0.0981],\n",
            "         [-0.5299, -0.1081]],\n",
            "\n",
            "        [[-0.4519,  0.2216],\n",
            "         [-0.5874,  0.0058],\n",
            "         [-0.6300, -0.0632],\n",
            "         [-0.5675, -0.0843],\n",
            "         [-0.5526, -0.0981],\n",
            "         [-0.5299, -0.1081]]], grad_fn=<UnsafeViewBackward0>)\n"
          ]
        }
      ]
    },
    {
      "cell_type": "markdown",
      "source": [
        "## A wrapper class to implement multi-head attention"
      ],
      "metadata": {
        "id": "GL-O3fqqB_Bd"
      }
    },
    {
      "cell_type": "code",
      "source": [
        "import torch.nn as nn\n",
        "\n",
        "class MultiHeadAtentionWrapper(nn.Module):\n",
        "  def __init__(self, d_in, d_out, context_length, dropout, num_heads, qkv_bias=False):\n",
        "    super().__init__()\n",
        "    self.heads = nn.ModuleList([\n",
        "        CausalAttention(d_in, d_out, dropout, qkv_bias) for _ in range(num_heads)\n",
        "    ])\n",
        "\n",
        "  def forward(self, x):\n",
        "    return torch.cat([head(x) for head in self.heads], dim=-1)"
      ],
      "metadata": {
        "id": "a2GqPxrOFjDT"
      },
      "execution_count": 1,
      "outputs": []
    },
    {
      "cell_type": "markdown",
      "source": [
        "# An efficient multi-head attention class"
      ],
      "metadata": {
        "id": "Wc--uqnuDeRs"
      }
    },
    {
      "cell_type": "code",
      "source": [
        "class MultiHeadAttention(nn.Module):\n",
        "  def __init__(self, d_in, d_out, context_length, dropout, num_heads, kqv_bias=False):\n",
        "    super().__init__()\n",
        "    assert (d_out%num_heads==0), \"d_out should be divisable by num_heads\"\n",
        "    self.d_out = d_out\n",
        "    self.num_heads = num_heads\n",
        "    self.head_dim = d_out//num_heads\n",
        "    self.w_key = nn.Linear(d_in, d_out, bias=kqv_bias)\n",
        "    self.w_query = nn.Linear(d_in, d_out, bias=kqv_bias)\n",
        "    self.w_value = nn.Linear(d_in, d_out, bias=kqv_bias)\n",
        "    self.out_proj = nn.Linear(d_out, d_out)\n",
        "    self.dropout = nn.Dropout(dropout)\n",
        "    self.register_buffer(\n",
        "        \"triu\",\n",
        "        torch.triu(torch.ones(context_length, context_length), diagonal=1)\n",
        "    )\n",
        "\n",
        "  def forward(self, x):\n",
        "    b, num_tokens, d_in = x.shape\n",
        "    keys = self.w_key(x)\n",
        "    values = self.w_value(x)\n",
        "    queries = self.w_query(x)\n",
        "    keys = keys.view(b, num_tokens, self.num_heads, self.head_dim)\n",
        "    values = values.view(b, num_tokens, self.num_heads, self.head_dim)\n",
        "    queries = queries.view(b, num_tokens, self.num_heads, self.head_dim)\n",
        "\n",
        "    keys = keys.transpose(1,2)\n",
        "    values = values.transpose(1,2)\n",
        "    queries = queries.transpose(1,2)\n",
        "\n",
        "    attn_scores = queries @ keys.transpose(2,3)\n",
        "    mask_bool = self.mask.bool()[:num_tokens, :num_tokens]\n",
        "\n",
        "    attn_scores.masked_fill_(mask_bool, -torch.inf)\n",
        "\n",
        "    attn_weights = torch.softmax(attn_scores / keys.shape[1]**0.5, dim=-1)\n",
        "    attn_weigths = self.dropout(attn_weights)\n",
        "\n",
        "    context_vec = context_vec.contigous().view(b, num_tokens, self.d_out)\n",
        "    context_vec = self.out_proj(context_vec)\n",
        "\n",
        "    return context_vec"
      ],
      "metadata": {
        "id": "d53klftdDSLS"
      },
      "execution_count": 2,
      "outputs": []
    },
    {
      "cell_type": "code",
      "source": [],
      "metadata": {
        "id": "14dvHHLfJR0y"
      },
      "execution_count": null,
      "outputs": []
    }
  ]
}