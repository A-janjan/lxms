{
 "cells": [
  {
   "cell_type": "code",
   "execution_count": 38,
   "metadata": {},
   "outputs": [],
   "source": [
    "from dotenv import load_dotenv\n",
    "import os\n",
    "\n",
    "# Load environment variables from .env file\n",
    "load_dotenv()\n",
    "\n",
    "# Access the environment variable\n",
    "together_api = os.environ.get('TOGETHER_API_KEY')"
   ]
  },
  {
   "cell_type": "code",
   "execution_count": 39,
   "metadata": {},
   "outputs": [],
   "source": [
    "from langchain_openai import ChatOpenAI\n",
    "\n",
    "TOGETHER_AI_BASE_URL = \"https://api.together.xyz/v1\"\n",
    "\n",
    "llm = ChatOpenAI(\n",
    "    model=\"meta-llama/Llama-3.3-70B-Instruct-Turbo\",\n",
    "    base_url=TOGETHER_AI_BASE_URL,\n",
    "    api_key=together_api\n",
    ")"
   ]
  },
  {
   "cell_type": "code",
   "execution_count": 40,
   "metadata": {},
   "outputs": [
    {
     "name": "stdout",
     "output_type": "stream",
     "text": [
      "==================================\u001b[1m Ai Message \u001b[0m==================================\n",
      "\n",
      "Hello Amir, I'm an AI assistant, and I'm here to help you with any questions or tasks you may have. I don't have a personal name, but you can think of me as a helpful companion who can provide information, answer questions, and assist with a wide range of topics. How can I assist you today?\n"
     ]
    }
   ],
   "source": [
    "from langchain_core.messages import HumanMessage, SystemMessage\n",
    "\n",
    "messages = [\n",
    "    SystemMessage(\"You are a helpful assistant AI assistant.\"),\n",
    "    HumanMessage(\"Hello, I am Amir. Who are you?\"),\n",
    "]\n",
    "\n",
    "response = llm.invoke(messages)\n",
    "response.pretty_print()"
   ]
  },
  {
   "cell_type": "code",
   "execution_count": 41,
   "metadata": {},
   "outputs": [],
   "source": [
    "from typing import TypedDict, Optional\n",
    "\n",
    "class MyState(TypedDict):\n",
    "    user_query: str\n",
    "    rewritten_query: Optional[str]\n",
    "    need_internet_search: Optional[bool]\n",
    "    search_results: Optional[str]\n",
    "    final_answer: Optional[str]"
   ]
  },
  {
   "cell_type": "code",
   "execution_count": 42,
   "metadata": {},
   "outputs": [],
   "source": [
    "def node_query_rewrite(state: MyState) -> MyState:\n",
    "    \"\"\"\n",
    "    Rewrites the user's query using an LLM for clarity or correctness.\n",
    "    \"\"\"\n",
    "    print(\"---Node Query Rewrite---\")\n",
    "    user_query = state[\"user_query\"]\n",
    "    \n",
    "    rewrite_prompt = f\"Please rewrite this query suitable for search engines:\\n\\n{user_query}\"\n",
    "    # Invoke the LLM to rewrite the query\n",
    "    rewritten = llm.invoke(rewrite_prompt).content\n",
    "    print(\"Rewritten query:\", rewritten)\n",
    "    state[\"rewritten_query\"] = rewritten\n",
    "    return state"
   ]
  },
  {
   "cell_type": "code",
   "execution_count": null,
   "metadata": {},
   "outputs": [],
   "source": [
    "from langchain_core.messages import HumanMessage, SystemMessage\n",
    "import nest_asyncio\n",
    "from llama_parse import LlamaParse\n",
    "from llama_index.core import SimpleDirectoryReader\n",
    "from langchain_text_splitters import RecursiveCharacterTextSplitter\n",
    "import lancedb\n",
    "from lancedb.embeddings import get_registry\n",
    "from lancedb.pydantic import LanceModel, Vector\n",
    "import pandas as pd\n",
    "\n",
    "nest_asyncio.apply()\n",
    "db = lancedb.connect(\".lancedb\")\n",
    "pdf_files = [\"../assets/The New Complete Book of Foos.pdf\"]\n",
    "llama_pase_api = os.environ.get(\"LLAMA_PARSE_API_KEY\")\n",
    "\n",
    "parser = LlamaParse(result_type=\"text\", api_key=llama_pase_api)\n",
    "file_extractor = {\".pdf\": parser}\n",
    "data_for_parse = SimpleDirectoryReader(input_files=pdf_files, file_extractor=file_extractor)\n",
    "documents =data_for_parse.load_data()\n",
    "\n",
    "text_splitter = RecursiveCharacterTextSplitter(\n",
    "    chunk_size=1024,\n",
    "    chunk_overlap=64,\n",
    "    length_function=len,\n",
    "    is_separator_regex=False,\n",
    ")\n",
    "\n",
    "documents_list = []\n",
    "page_number = 0\n",
    "last_doc = None\n",
    "for doc in documents:\n",
    "    if last_doc is None or last_doc != doc.metadata[\"file_name\"]:\n",
    "        page_number = 1\n",
    "        last_doc = doc.metadata[\"file_name\"]\n",
    "    else:\n",
    "        page_number += 1\n",
    "\n",
    "    texts = text_splitter.split_text(doc.text)\n",
    "    for text in texts:\n",
    "        item = {}\n",
    "        item[\"id_\"] = doc.id_\n",
    "        item[\"text\"] = text\n",
    "        item[\"metadata_file_name\"] = doc.metadata[\"file_name\"]\n",
    "        item[\"metadata_creation_date\"] = doc.metadata[\"creation_date\"]\n",
    "        item[\"metadata_pagenumber\"] = page_number\n",
    "        documents_list.append(item)\n",
    "\n",
    "\n",
    "embedding_model = get_registry().get(\"sentence-transformers\").create(name=\"BAAI/bge-small-en-v1.5\", device=\"mps\")\n",
    "\n",
    "class ChunksOfData(LanceModel):\n",
    "    text: str = embedding_model.SourceField()\n",
    "    metadata_file_name: str\n",
    "    metadata_creation_date: str\n",
    "    metadata_pagenumber: int\n",
    "    vector: Vector(embedding_model.ndims()) = embedding_model.VectorField() # type: ignore\n",
    "    \n",
    "    \n",
    "df = pd.DataFrame(documents_list)\n",
    "\n",
    "def df_to_dict_batches(df: pd.DataFrame, batch_size: int = 128):\n",
    "    \"\"\"\n",
    "    Yields data from a DataFrame in batches of dictionaries.\n",
    "    Each batch is a list of dict, suitable for LanceDB ingestion.\n",
    "    \"\"\"\n",
    "    for start_idx in range(0, len(df), batch_size):\n",
    "        end_idx = start_idx + batch_size\n",
    "        # Convert the batch of rows to a list of dict\n",
    "        batch_dicts = df.iloc[start_idx:end_idx].to_dict(orient=\"records\")\n",
    "        yield batch_dicts\n",
    "\n",
    "tbl = db.create_table(\n",
    "    \"embedded_chunks3\",\n",
    "    data=df_to_dict_batches(df, batch_size=10),\n",
    "    schema=ChunksOfData,\n",
    ")"
   ]
  },
  {
   "cell_type": "code",
   "execution_count": 47,
   "metadata": {},
   "outputs": [],
   "source": [
    "def node_search_book(state: MyState) -> MyState:\n",
    "    \"\"\"\n",
    "    search from the book\n",
    "    \"\"\"\n",
    "    query = state[\"rewritten_query\"]\n",
    "    \n",
    "    context_list = tbl.search(query, query_type=\"hybrid\").limit(5).to_list()\n",
    "    context = ''.join([f\"{c['text']}\\n\\n\" for c in context_list])\n",
    "    \n",
    "    system_prompt = \"Answer user query based on the given context.if context is not related, just write: unrelated\"\n",
    "    user_prompt = f\"Question:\\n{query}\\nContext:\\n{context}\"\n",
    "\n",
    "    messages = [\n",
    "        SystemMessage(system_prompt),\n",
    "        HumanMessage(user_prompt),\n",
    "    ]\n",
    "    \n",
    "    results = llm.invoke(messages)\n",
    "    if results == \"unrelated\":\n",
    "        state[\"need_internet_search\"] = True\n",
    "    else:\n",
    "        state['search_results'] = results\n",
    "    \n",
    "    return state"
   ]
  },
  {
   "cell_type": "code",
   "execution_count": 43,
   "metadata": {},
   "outputs": [],
   "source": [
    "from langchain_community.tools.tavily_search import TavilySearchResults\n",
    "\n",
    "def node_search_internet(state: MyState) -> MyState:\n",
    "    \"\"\"\n",
    "    Searches the internet for the rewritten query using a search tool.\n",
    "    \"\"\"\n",
    "    if state[\"need_internet_search\"]:\n",
    "        print(\"---Node Search Internet---\")\n",
    "        rewritten_query = state[\"rewritten_query\"]\n",
    "    \n",
    "        # Use your search tool function\n",
    "        results = TavilySearchResults(max_results=3).invoke(rewritten_query)\n",
    "        print(\"Search results:\")\n",
    "        print(results)\n",
    "        # Save the search results in state\n",
    "        state[\"search_results\"] = str(results)\n",
    "        \n",
    "    return state"
   ]
  },
  {
   "cell_type": "code",
   "execution_count": 44,
   "metadata": {},
   "outputs": [],
   "source": [
    "def node_generate_answer(state: MyState) -> MyState:\n",
    "    \"\"\"\n",
    "    Generates a final answer based on the original user query and the search results.\n",
    "    \"\"\"\n",
    "    print(\"---Node Generate Answer---\")\n",
    "    user_query = state[\"user_query\"]\n",
    "    search_info = state[\"search_results\"] or \"No search results found.\"\n",
    "    \n",
    "    # Combine user query with search results to generate answer\n",
    "    final_answer = llm.invoke(\n",
    "        f\"User's query: {user_query}\\n\\nSearch results:\\n{search_info}\\n\\n\"\n",
    "        \"Please provide a helpful answer.\"\n",
    "    )\n",
    "    print(\"Final answer:\", final_answer.content)\n",
    "    state[\"final_answer\"] = final_answer.content\n",
    "    return state"
   ]
  },
  {
   "cell_type": "code",
   "execution_count": 45,
   "metadata": {},
   "outputs": [],
   "source": [
    "from pydantic import BaseModel, Field\n",
    "\n",
    "class IsRelated(BaseModel):\n",
    "    reasoning : str = Field(description=\"The reasoning behind the decision, wheather it is the query is related to restaurants and foods or not.\")\n",
    "    is_related_flag: bool = Field(description=\"The decision whether the query is related to restaurants and foods or not.\")"
   ]
  },
  {
   "cell_type": "code",
   "execution_count": 46,
   "metadata": {},
   "outputs": [],
   "source": [
    "from typing import Literal\n",
    "\n",
    "def is_related(MyState) -> Literal[\"node_query_rewrite\", \"node_generate_answer\"]:\n",
    "    query = MyState[\"user_query\"]\n",
    "    llm_with_structured_output = llm.with_structured_output(IsRelated)\n",
    "    response = llm_with_structured_output.invoke(query)\n",
    "    print(\"-----Is Related-----\")\n",
    "    print(response)\n",
    "    if response.is_related_flag == True:\n",
    "        return \"node_query_rewrite\"\n",
    "    else:\n",
    "        return \"node_generate_answer\""
   ]
  },
  {
   "cell_type": "code",
   "execution_count": 48,
   "metadata": {},
   "outputs": [],
   "source": [
    "from langgraph.graph import StateGraph, START, END\n",
    "\n",
    "# Build the graph\n",
    "builder = StateGraph(MyState)\n",
    "\n",
    "# Add nodes\n",
    "builder.add_node(\"node_query_rewrite\", node_query_rewrite)\n",
    "builder.add_node(\"node_search_book\", node_search_book)\n",
    "builder.add_node(\"node_search_internet\", node_search_internet)\n",
    "builder.add_node(\"node_generate_answer\", node_generate_answer)\n",
    "\n",
    "# Add edges (linear flow)\n",
    "builder.add_conditional_edges(START, is_related)\n",
    "\n",
    "builder.add_edge(\"node_query_rewrite\", \"node_search_book\")\n",
    "builder.add_edge(\"node_search_book\", \"node_search_internet\")\n",
    "builder.add_edge(\"node_search_internet\", \"node_generate_answer\")\n",
    "builder.add_edge(\"node_generate_answer\", END)\n",
    "\n",
    "# Compile the graph\n",
    "advanced_search_graph = builder.compile()"
   ]
  },
  {
   "cell_type": "code",
   "execution_count": 49,
   "metadata": {},
   "outputs": [
    {
     "data": {
      "image/png": "[encoded data removed]",
      "text/plain": [
       "<IPython.core.display.Image object>"
      ]
     },
     "metadata": {},
     "output_type": "display_data"
    }
   ],
   "source": [
    "from IPython.display import Image, display\n",
    "\n",
    "display(Image(advanced_search_graph.get_graph().draw_mermaid_png()))"
   ]
  },
  {
   "cell_type": "code",
   "execution_count": null,
   "metadata": {},
   "outputs": [],
   "source": []
  }
 ],
 "metadata": {
  "kernelspec": {
   "display_name": "env",
   "language": "python",
   "name": "python3"
  },
  "language_info": {
   "codemirror_mode": {
    "name": "ipython",
    "version": 3
   },
   "file_extension": ".py",
   "mimetype": "text/x-python",
   "name": "python",
   "nbconvert_exporter": "python",
   "pygments_lexer": "ipython3",
   "version": "3.12.8"
  }
 },
 "nbformat": 4,
 "nbformat_minor": 2
}
