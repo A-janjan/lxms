{
 "cells": [
  {
   "cell_type": "code",
   "execution_count": 1,
   "metadata": {},
   "outputs": [],
   "source": [
    "from dotenv import load_dotenv\n",
    "import os\n",
    "\n",
    "# Load environment variables from .env file\n",
    "load_dotenv()\n",
    "\n",
    "# Access the environment variable\n",
    "together_api = os.environ.get('TOGETHER_API_KEY')"
   ]
  },
  {
   "cell_type": "code",
   "execution_count": 2,
   "metadata": {},
   "outputs": [],
   "source": [
    "from langchain_openai import ChatOpenAI\n",
    "\n",
    "TOGETHER_AI_BASE_URL = \"https://api.together.xyz/v1\"\n",
    "\n",
    "llm = ChatOpenAI(\n",
    "    model=\"meta-llama/Llama-3.3-70B-Instruct-Turbo\",\n",
    "    base_url=TOGETHER_AI_BASE_URL,\n",
    "    api_key=together_api\n",
    ")"
   ]
  },
  {
   "cell_type": "code",
   "execution_count": 3,
   "metadata": {},
   "outputs": [
    {
     "name": "stdout",
     "output_type": "stream",
     "text": [
      "==================================\u001b[1m Ai Message \u001b[0m==================================\n",
      "\n",
      "Hello Amir, I'm an AI assistant, which means I'm a computer program designed to help and communicate with users like you. I don't have a personal name, but I'm here to provide information, answer questions, and assist with tasks to the best of my abilities. It's nice to meet you, Amir! How can I help you today?\n"
     ]
    }
   ],
   "source": [
    "from langchain_core.messages import HumanMessage, SystemMessage\n",
    "\n",
    "messages = [\n",
    "    SystemMessage(\"You are a helpful assistant AI assistant.\"),\n",
    "    HumanMessage(\"Hello, I am Amir. Who are you?\"),\n",
    "]\n",
    "\n",
    "response = llm.invoke(messages)\n",
    "response.pretty_print()"
   ]
  },
  {
   "cell_type": "code",
   "execution_count": 4,
   "metadata": {},
   "outputs": [],
   "source": [
    "from typing import TypedDict, Optional\n",
    "\n",
    "class MyState(TypedDict):\n",
    "    user_query: str\n",
    "    rewritten_query: Optional[str]\n",
    "    need_internet_search: Optional[bool]\n",
    "    search_results: Optional[str]\n",
    "    final_answer: Optional[str]\n",
    "    bad_state: Optional[bool]"
   ]
  },
  {
   "cell_type": "code",
   "execution_count": 5,
   "metadata": {},
   "outputs": [],
   "source": [
    "def node_query_rewrite(state: MyState) -> MyState:\n",
    "    \"\"\"\n",
    "    Rewrites the user's query using an LLM for clarity or correctness.\n",
    "    Sanitizes the rewritten query to ensure compatibility with the search engine.\n",
    "    \"\"\"\n",
    "    print(\"---Node Query Rewrite---\")\n",
    "    user_query = state[\"user_query\"]\n",
    "    \n",
    "    # Prompt to rewrite the query\n",
    "    rewrite_prompt = f\"Please rewrite this query suitable for search engines. Ensure it is clear and concise:\\n\\n{user_query}\"\n",
    "    \n",
    "    # Invoke the LLM to rewrite the query\n",
    "    rewritten = llm.invoke(rewrite_prompt).content\n",
    "    print(\"Raw rewritten query from LLM:\", rewritten)\n",
    "    \n",
    "    # Sanitize the rewritten query\n",
    "    def sanitize_query(query: str) -> str:\n",
    "        import re\n",
    "        # Allow only alphanumeric characters, spaces, and basic punctuation (e.g., single quotes, dashes)\n",
    "        return re.sub(r'[^a-zA-Z0-9\\s\\'-]', '', query).strip()\n",
    "    \n",
    "    sanitized_query = sanitize_query(rewritten)\n",
    "    print(\"Sanitized query:\", sanitized_query)\n",
    "    \n",
    "    # Update the state with the sanitized query\n",
    "    state[\"rewritten_query\"] = sanitized_query\n",
    "    return state"
   ]
  },
  {
   "cell_type": "code",
   "execution_count": 6,
   "metadata": {},
   "outputs": [
    {
     "name": "stderr",
     "output_type": "stream",
     "text": [
      "/home/davinci/GitHub/JANJAN/lxms/apps/chatfood/env/lib/python3.12/site-packages/tqdm/auto.py:21: TqdmWarning: IProgress not found. Please update jupyter and ipywidgets. See https://ipywidgets.readthedocs.io/en/stable/user_install.html\n",
      "  from .autonotebook import tqdm as notebook_tqdm\n"
     ]
    },
    {
     "name": "stdout",
     "output_type": "stream",
     "text": [
      "Started parsing the file under job_id 3beccbb0-39ad-40f9-ab94-91f3c553bc08\n"
     ]
    }
   ],
   "source": [
    "from langchain_core.messages import HumanMessage, SystemMessage\n",
    "import nest_asyncio\n",
    "from llama_parse import LlamaParse\n",
    "from llama_index.core import SimpleDirectoryReader\n",
    "from langchain_text_splitters import RecursiveCharacterTextSplitter\n",
    "import lancedb\n",
    "from lancedb.embeddings import get_registry\n",
    "from lancedb.pydantic import LanceModel, Vector\n",
    "import pandas as pd\n",
    "\n",
    "nest_asyncio.apply()\n",
    "db = lancedb.connect(\".lancedb\")\n",
    "pdf_files = [\"../assets/The New Complete Book of Foos.pdf\"]\n",
    "llama_pase_api = os.environ.get(\"LLAMA_PARSE_API_KEY\")\n",
    "\n",
    "parser = LlamaParse(result_type=\"text\", api_key=llama_pase_api)\n",
    "file_extractor = {\".pdf\": parser}\n",
    "data_for_parse = SimpleDirectoryReader(input_files=pdf_files, file_extractor=file_extractor)\n",
    "documents =data_for_parse.load_data()\n",
    "\n",
    "text_splitter = RecursiveCharacterTextSplitter(\n",
    "    chunk_size=1024,\n",
    "    chunk_overlap=64,\n",
    "    length_function=len,\n",
    "    is_separator_regex=False,\n",
    ")\n",
    "\n",
    "documents_list = []\n",
    "page_number = 0\n",
    "last_doc = None\n",
    "for doc in documents:\n",
    "    if last_doc is None or last_doc != doc.metadata[\"file_name\"]:\n",
    "        page_number = 1\n",
    "        last_doc = doc.metadata[\"file_name\"]\n",
    "    else:\n",
    "        page_number += 1\n",
    "\n",
    "    texts = text_splitter.split_text(doc.text)\n",
    "    for text in texts:\n",
    "        item = {}\n",
    "        item[\"id_\"] = doc.id_\n",
    "        item[\"text\"] = text\n",
    "        item[\"metadata_file_name\"] = doc.metadata[\"file_name\"]\n",
    "        item[\"metadata_creation_date\"] = doc.metadata[\"creation_date\"]\n",
    "        item[\"metadata_pagenumber\"] = page_number\n",
    "        documents_list.append(item)\n",
    "\n",
    "\n",
    "embedding_model = get_registry().get(\"sentence-transformers\").create(name=\"BAAI/bge-small-en-v1.5\")\n",
    "\n",
    "class ChunksOfData(LanceModel):\n",
    "    id_: str\n",
    "    text: str = embedding_model.SourceField()  # Store text data for search\n",
    "    metadata_file_name: str\n",
    "    metadata_creation_date: str\n",
    "    metadata_pagenumber: int\n",
    "    vector: Vector(embedding_model.ndims()) = embedding_model.VectorField()  # type: ignore\n",
    "    \n",
    "df = pd.DataFrame(documents_list)\n",
    "\n",
    "def df_to_dict_batches(df: pd.DataFrame, batch_size: int = 128):\n",
    "    \"\"\"\n",
    "    Yields data from a DataFrame in batches of dictionaries.\n",
    "    Each batch is a list of dict, suitable for LanceDB ingestion.\n",
    "    \"\"\"\n",
    "    for start_idx in range(0, len(df), batch_size):\n",
    "        end_idx = start_idx + batch_size\n",
    "        # Convert the batch of rows to a list of dict\n",
    "        batch_dicts = df.iloc[start_idx:end_idx].to_dict(orient=\"records\")\n",
    "        yield batch_dicts"
   ]
  },
  {
   "cell_type": "code",
   "execution_count": 7,
   "metadata": {},
   "outputs": [
    {
     "name": "stdout",
     "output_type": "stream",
     "text": [
      "Table 'embedded_chunks3' loaded successfully.\n"
     ]
    }
   ],
   "source": [
    "# Check if the table already exists in the database\n",
    "if \"embedded_chunks3\" in db.table_names():\n",
    "    tbl = db.open_table(\"embedded_chunks3\")\n",
    "    print(\"Table 'embedded_chunks3' loaded successfully.\")\n",
    "else:\n",
    "    print(\"Table 'embedded_chunks3' not found. Creating a new one...\")\n",
    "    tbl = db.create_table(\n",
    "        \"embedded_chunks3\",\n",
    "        data=df_to_dict_batches(df, batch_size=10),\n",
    "        schema=ChunksOfData,\n",
    "    )\n",
    "    tbl.create_fts_index(\"text\")\n",
    "    print(\"Table 'embedded_chunks3' created successfully.\")\n"
   ]
  },
  {
   "cell_type": "code",
   "execution_count": 8,
   "metadata": {},
   "outputs": [],
   "source": [
    "def node_search_book(state: MyState) -> MyState:\n",
    "    \"\"\"\n",
    "    search from the book\n",
    "    \"\"\"\n",
    "    print(\"---Node Search the book---\")\n",
    "    query = state[\"rewritten_query\"]\n",
    "    \n",
    "    context_list = tbl.search(query, query_type=\"hybrid\").limit(5).to_list()\n",
    "    context = ''.join([f\"{c['text']}\\n\\n\" for c in context_list])\n",
    "    \n",
    "    system_prompt = \"Answer user query based on the given context.if context is not related, just write: unrelated\"\n",
    "    user_prompt = f\"Question:\\n{query}\\nContext:\\n{context}\"\n",
    "\n",
    "    messages = [\n",
    "        SystemMessage(system_prompt),\n",
    "        HumanMessage(user_prompt),\n",
    "    ]\n",
    "    \n",
    "    results = llm.invoke(messages)\n",
    "    \n",
    "    if results.content.lower() == \"unrelated\":\n",
    "        state[\"need_internet_search\"] = True\n",
    "    else:\n",
    "        state[\"need_internet_search\"] = False\n",
    "        state['search_results'] = results\n",
    "    \n",
    "    return state"
   ]
  },
  {
   "cell_type": "code",
   "execution_count": 9,
   "metadata": {},
   "outputs": [],
   "source": [
    "from langchain_community.tools.tavily_search import TavilySearchResults\n",
    "\n",
    "tavily_api = os.environ.get(\"TAVILY_API_KEY\")\n",
    "\n",
    "\n",
    "def node_search_internet(state: MyState) -> MyState:\n",
    "    \"\"\"\n",
    "    Searches the internet for the rewritten query using a search tool.\n",
    "    \"\"\"\n",
    "    if state.get(\"need_internet_search\", False):\n",
    "        print(\"---Node Search Internet---\")\n",
    "        rewritten_query = state[\"rewritten_query\"]\n",
    "    \n",
    "        # Use your search tool function\n",
    "        results = TavilySearchResults(max_results=3, tavily_api_key=tavily_api).invoke(rewritten_query)\n",
    "        print(\"Search results:\")\n",
    "        print(results)\n",
    "        # Save the search results in state\n",
    "        state[\"search_  results\"] = str(results)\n",
    "        \n",
    "    return state"
   ]
  },
  {
   "cell_type": "code",
   "execution_count": 10,
   "metadata": {},
   "outputs": [],
   "source": [
    "def node_generate_answer(state: MyState) -> MyState:\n",
    "    \"\"\"\n",
    "    Generates a final answer based on the original user query and the search results.\n",
    "    \"\"\"\n",
    "    print(\"---Node Generate Answer---\")\n",
    "    user_query = state[\"user_query\"]\n",
    "    search_info = state.get(\"search_results\", \"No search results found.\")\n",
    "    # search_info = state[\"search_results\"] or \"No search results found.\"\n",
    "    # Combine user query with search results to generate answer\n",
    "    try:\n",
    "        \n",
    "        if not state[\"bad_state\"]:\n",
    "            final_answer = llm.invoke(\n",
    "                f\"User's query: {user_query}\\n\\nSearch results:\\n{search_info}\\n\\n\"\n",
    "                \"Please provide a helpful answer.\"\n",
    "            )\n",
    "            print(\"Final answer:\", final_answer.content)\n",
    "            state[\"final_answer\"] = final_answer.content\n",
    "        \n",
    "        \n",
    "        else:\n",
    "            print(\"sorry i can't give services.\")\n",
    "            state[\"final_answer\"] = \"Not related Query!\"\n",
    "    except Exception as e:\n",
    "        print(f\"Error during answer generation: {e}\")\n",
    "        state[\"final_answer\"] = \"Sorry, there was an issue generating the answer.\"\n",
    "    return state"
   ]
  },
  {
   "cell_type": "code",
   "execution_count": 11,
   "metadata": {},
   "outputs": [],
   "source": [
    "from typing import Literal\n",
    "from pydantic import BaseModel, Field\n",
    "\n",
    "class IsRelated(BaseModel):\n",
    "    reasoning: str = Field(description=\"The reasoning behind the decision, whether the query is related to restaurants and foods or not.\")\n",
    "    is_related_flag: bool = Field(description=\"The decision whether the query is related to restaurants and foods or not.\")\n",
    "\n",
    "def is_related(state: MyState) -> Literal[\"node_query_rewrite\", \"node_update_bad_state\"]:\n",
    "    query = state[\"user_query\"]\n",
    "    llm_with_structured_output = llm.with_structured_output(IsRelated)\n",
    "    try:\n",
    "        prompt = (\n",
    "            f\"Analyze the following query and decide whether it is related to restaurants or foods. \"\n",
    "            \"Respond in this exact JSON format: \"\n",
    "            '{\"reasoning\": \"<reasoning string>\", \"is_related_flag\": <true|false>}.\\n\\n'\n",
    "            f\"Query: {query}\"\n",
    "        )\n",
    "        \n",
    "        response = llm_with_structured_output.invoke(prompt)\n",
    "        if response and hasattr(response, 'is_related_flag') and isinstance(response.is_related_flag, bool):\n",
    "            print(\"-----Is Related-----\")\n",
    "            print(response)\n",
    "            if response.is_related_flag:\n",
    "                return \"node_query_rewrite\"\n",
    "            else:\n",
    "                return \"node_update_bad_state\"  # A node to update `bad_state`\n",
    "        else:\n",
    "            print(\"Invalid response structure.\")\n",
    "            return \"node_update_bad_state\"\n",
    "    except Exception as e:\n",
    "        print(f\"Error invoking LLM: {e}\")\n",
    "        return \"node_update_bad_state\""
   ]
  },
  {
   "cell_type": "code",
   "execution_count": 12,
   "metadata": {},
   "outputs": [],
   "source": [
    "def node_update_bad_state(state: MyState) -> MyState:\n",
    "    \"\"\"\n",
    "    Updates the state to indicate a 'bad state' when the query is not related.\n",
    "    \"\"\"\n",
    "    state[\"bad_state\"] = True\n",
    "    return state"
   ]
  },
  {
   "cell_type": "code",
   "execution_count": 13,
   "metadata": {},
   "outputs": [],
   "source": [
    "from langgraph.graph import StateGraph, START, END\n",
    "\n",
    "# Build the graph\n",
    "builder = StateGraph(MyState)\n",
    "\n",
    "# Add nodes\n",
    "builder.add_node(\"node_query_rewrite\", node_query_rewrite)\n",
    "builder.add_node(\"node_search_book\", node_search_book)\n",
    "builder.add_node(\"node_search_internet\", node_search_internet)\n",
    "builder.add_node(\"node_generate_answer\", node_generate_answer)\n",
    "builder.add_node(\"node_update_bad_state\", node_update_bad_state)\n",
    "\n",
    "# Add edges (linear flow)\n",
    "builder.add_conditional_edges(START, is_related)\n",
    "\n",
    "builder.add_edge(\"node_update_bad_state\", \"node_generate_answer\")\n",
    "builder.add_edge(\"node_query_rewrite\", \"node_search_book\")\n",
    "builder.add_edge(\"node_search_book\", \"node_search_internet\")\n",
    "builder.add_edge(\"node_search_internet\", \"node_generate_answer\")\n",
    "builder.add_edge(\"node_generate_answer\", END)\n",
    "\n",
    "# Compile the graph\n",
    "advanced_search_graph = builder.compile()"
   ]
  },
  {
   "cell_type": "code",
   "execution_count": 14,
   "metadata": {},
   "outputs": [
    {
     "data": {
      "image/png": "[encoded data removed]",
      "text/plain": [
       "<IPython.core.display.Image object>"
      ]
     },
     "metadata": {},
     "output_type": "display_data"
    }
   ],
   "source": [
    "from IPython.display import Image, display\n",
    "\n",
    "display(Image(advanced_search_graph.get_graph().draw_mermaid_png()))"
   ]
  },
  {
   "cell_type": "code",
   "execution_count": 17,
   "metadata": {},
   "outputs": [
    {
     "name": "stdout",
     "output_type": "stream",
     "text": [
      "-----Is Related-----\n",
      "reasoning=\"The query 'Why is the sky blue?' is a scientific question related to the color of the sky and has no apparent connection to restaurants or food.\" is_related_flag=False\n",
      "---Node Generate Answer---\n",
      "sorry i can't give services.\n",
      "Not related Query!\n"
     ]
    }
   ],
   "source": [
    "state = {\n",
    "    \"user_query\": \"Why is the sky blue?\",\n",
    "    \"rewritten_query\": None,\n",
    "    \"need_internet_search\": None,\n",
    "    \"search_results\": None,\n",
    "    \"bad_state\": None,\n",
    "    \"final_answer\": None,\n",
    "}\n",
    "\n",
    "final_state = advanced_search_graph.invoke(state)\n",
    "\n",
    "print(final_state['final_answer'])"
   ]
  },
  {
   "cell_type": "markdown",
   "metadata": {},
   "source": [
    "# Why Do We Convert Data to Chunks?\n",
    "\n",
    "### 1. Memory Efficiency:\n",
    "- Processing large datasets or documents as a whole may exceed memory or hardware limits.\n",
    "- Splitting data into smaller chunks allows for incremental processing.\n",
    "\n",
    "### 2. Improved Performance:\n",
    "- Many machine learning models (e.g., transformers like BERT) have a maximum input size limit (e.g., 512 tokens).\n",
    "- Chunking ensures the input fits within these constraints.\n",
    "\n",
    "### 3. Contextual Understanding:\n",
    "- For models that handle smaller inputs, chunking ensures the text is processed in meaningful segments without truncating important parts.\n",
    "\n",
    "### 4. Parallel Processing:\n",
    "- Breaking data into chunks enables parallelization, which speeds up processing tasks like inference or training.\n",
    "\n",
    "### 5. Handling Long Documents:\n",
    "- Long documents, which may not fit in a single model input, are divided into chunks to retain as much content as possible.\n",
    "\n",
    "---"
   ]
  },
  {
   "cell_type": "markdown",
   "metadata": {},
   "source": [
    "# Effect of chunk_size and chunk_overlap\n",
    "\n",
    "### 1. Accuracy vs. Efficiency Trade-off:\n",
    "\n",
    "- Smaller chunk_size with a high chunk_overlap improves context retention but increases processing time and memory usage.\n",
    "- Larger chunk_size with no overlap processes data faster but risks losing information at boundaries.\n",
    "\n",
    "### 2. Redundancy:\n",
    "\n",
    "- High overlap may lead to repetitive information in neighboring chunks. Post-processing may be required to handle this.\n",
    "\n",
    "---"
   ]
  },
  {
   "cell_type": "markdown",
   "metadata": {},
   "source": [
    "# What is Hybrid Retrieval?\n",
    "\n",
    "a method that combines two different types of information retrieval techniques -> to improve search accuracy and relevance\n",
    "\n",
    "Typically, it blends:\n",
    "\n",
    "#### 1. Sparse Retrieval (e.g., BM25, TF-IDF):\n",
    "\n",
    "- Focuses on exact keyword matching.\n",
    "- Works well when specific terms in the query appear in the document.\n",
    "\n",
    "#### 2. Dense Retrieval (e.g., Vector Search, Embeddings-based Search):\n",
    "\n",
    "- Uses vector representations (e.g., embeddings) of the query and documents.\n",
    "- Finds semantic similarities rather than exact matches.\n",
    "- Example: If the query is \"best restaurants,\" dense retrieval might match a document that talks about \"top-rated dining places,\" even if the exact words differ.\n",
    "\n",
    "---"
   ]
  },
  {
   "cell_type": "markdown",
   "metadata": {},
   "source": [
    "# Why is Hybrid Retrieval Better?\n",
    "\n",
    "### 1. Advantages of Sparse Retrieval:\n",
    "\n",
    "- Precision for keyword-based queries: Works well when users know the exact words they are looking for.\n",
    "- Handling rare terms: Sparse methods excel at retrieving documents with specific rare terms (e.g., product names or technical jargon).\n",
    "\n",
    "### 2. Advantages of Dense Retrieval:\n",
    "\n",
    "- Semantic understanding: Captures the meaning of queries and documents even when they use different vocabulary.\n",
    "- Handling noisy or ambiguous queries: Dense methods are robust when queries are imprecise or when users don't know the exact terminology.\n",
    "\n",
    "### 3. Combining Both:\n",
    "\n",
    "Hybrid retrieval bridges gaps between the two methods:\n",
    "\n",
    "- Sparse retrieval ensures exact matches are considered.\n",
    "- Dense retrieval ensures semantically relevant documents aren't overlooked.\n",
    "\n",
    "It improves the recall (finding relevant results) and precision (filtering irrelevant results).\n",
    "\n",
    "---"
   ]
  },
  {
   "cell_type": "markdown",
   "metadata": {},
   "source": [
    "# Why do we filter retrieved contexts before generating the answer?\n",
    "\n",
    "We filter retrieved contexts before generating answers to ensure relevance, accuracy, and efficiency:\n",
    "\n",
    "1. **Relevance**: Removes unrelated information, focusing only on contexts that match the query.\n",
    "2. **Accuracy**: Reduces noise and avoids misleading or contradictory data.\n",
    "3. **Efficiency**: Saves computational resources and prioritizes the most important content.\n",
    "4. **Intent Alignment**: Ensures the response matches the user's query purpose.\n",
    "\n",
    "Filtered contexts lead to clearer, more precise answers while optimizing performance.\n",
    "\n",
    "---"
   ]
  },
  {
   "cell_type": "markdown",
   "metadata": {},
   "source": [
    "# The model can answer questions. Why didn't we just use the model for answering questions, and why did we implement RAG?\n",
    "\n",
    "\n",
    "1. **Knowledge Limitations**: Pretrained models have a fixed knowledge cutoff and may lack up-to-date or domain-specific information. RAG enables real-time retrieval of relevant knowledge.\n",
    "\n",
    "2. **Accuracy**: By grounding responses in retrieved context, RAG ensures answers are factually accurate and backed by external sources.\n",
    "\n",
    "3. **Contextual Relevance**: RAG retrieves only the most relevant data, aligning the generated response with specific queries.\n",
    "\n",
    "4. **Scalability**: RAG allows the model to dynamically access vast external knowledge bases, rather than retraining it with every new dataset.\n",
    "\n",
    "5. **Cost-Efficiency**: Fine-tuning or training a model with extensive domain-specific data is costly. RAG avoids this by combining retrieval with generation.\n",
    "\n",
    "---"
   ]
  },
  {
   "cell_type": "code",
   "execution_count": 16,
   "metadata": {},
   "outputs": [],
   "source": [
    "# "
   ]
  },
  {
   "cell_type": "code",
   "execution_count": null,
   "metadata": {},
   "outputs": [],
   "source": []
  }
 ],
 "metadata": {
  "kernelspec": {
   "display_name": "env",
   "language": "python",
   "name": "python3"
  },
  "language_info": {
   "codemirror_mode": {
    "name": "ipython",
    "version": 3
   },
   "file_extension": ".py",
   "mimetype": "text/x-python",
   "name": "python",
   "nbconvert_exporter": "python",
   "pygments_lexer": "ipython3",
   "version": "3.12.8"
  }
 },
 "nbformat": 4,
 "nbformat_minor": 2
}
